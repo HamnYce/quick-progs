{
 "cells": [
  {
   "cell_type": "code",
   "execution_count": 1,
   "id": "2c9d7fd3-2b73-4509-ae24-bb523513796a",
   "metadata": {},
   "outputs": [],
   "source": [
    "import numpy as np, pandas as pd, matplotlib.pyplot as plt"
   ]
  },
  {
   "cell_type": "code",
   "execution_count": 69,
   "id": "3a3e916c-d066-413a-9280-98f114b0d03f",
   "metadata": {},
   "outputs": [],
   "source": [
    "df = pd.read_csv('CSC290_Twitter_Data.csv',\n",
    "                 index_col='userid',\n",
    "                 dtype={'userid':np.longlong}\n",
    "                )\n",
    "df['date_local'] = df['date_local'].astype(np.datetime64)\n",
    "df = df.rename({'language':'lang', 'date_local':'date','tweet_text':'text','lng':'long', 'screen_name':'nick','governate':'state','Area':'area'}, axis=1,)"
   ]
  },
  {
   "cell_type": "code",
   "execution_count": 118,
   "id": "3d651cee-19a2-4a72-9544-1c673ac34d5e",
   "metadata": {},
   "outputs": [],
   "source": [
    "#df.columns({'language':'lang', 'date_local':'date','tweet_text':'text','lng':'long', 'screen_name':'nick','governate':'state','Area':'area'})\n"
   ]
  },
  {
   "cell_type": "code",
   "execution_count": null,
   "id": "4e20ec37-f12e-44da-b3bd-5751ad880ccf",
   "metadata": {},
   "outputs": [],
   "source": []
  }
 ],
 "metadata": {
  "kernelspec": {
   "display_name": "Python 3 (ipykernel)",
   "language": "python",
   "name": "python3"
  },
  "language_info": {
   "codemirror_mode": {
    "name": "ipython",
    "version": 3
   },
   "file_extension": ".py",
   "mimetype": "text/x-python",
   "name": "python",
   "nbconvert_exporter": "python",
   "pygments_lexer": "ipython3",
   "version": "3.9.13"
  }
 },
 "nbformat": 4,
 "nbformat_minor": 5
}
