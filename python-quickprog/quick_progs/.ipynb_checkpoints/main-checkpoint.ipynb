{
 "cells": [
  {
   "cell_type": "code",
   "execution_count": 2,
   "id": "961b3bc0-eec1-446a-9123-8c157d8e2661",
   "metadata": {},
   "outputs": [],
   "source": [
    "import math, itertools, functools, collections, sympy as sm, decimal as dec"
   ]
  },
  {
   "cell_type": "code",
   "execution_count": 2,
   "id": "2255f0f0-11a8-4214-9d0e-a1382549a3fd",
   "metadata": {
    "tags": []
   },
   "outputs": [],
   "source": [
    "MAX = 1_000_000\n",
    "SQRT = math.floor(math.sqrt(MAX)) + 1\n",
    "sieve = [1 for _ in range(MAX)]\n",
    "sieve[0] = 0\n",
    "sieve[1] = 0\n",
    "for i in range(4, MAX, 2):\n",
    "    sieve[i] = 0\n",
    "for i in range(3, SQRT, 2):\n",
    "    if sieve[i]:\n",
    "        for j in range(i + i, MAX, i):\n",
    "            sieve[j] = 0\n",
    "primes = [i for i,x in enumerate(sieve) if x]\n",
    "len(primes)"
   ]
  },
  {
   "cell_type": "code",
   "execution_count": 16,
   "id": "9dc6d3f9-abfb-41f2-8443-162aeb7a5823",
   "metadata": {
    "tags": []
   },
   "outputs": [],
   "source": [
    "cf = [2,1, 2]\n",
    "for i in range(4, 101, 2):\n",
    "    cf += [1,1,i]\n",
    "@functools.cache\n",
    "def work_e(tup):\n",
    "    if len(tup[2]) == 3:\n",
    "        tup = (tup[0],tup[1],work_e(tup[2]))\n",
    "    if len(tup[2]) == 2:\n",
    "        tup = (tup[0] * tup[2][0] + tup[1] * tup[2][1],tup[2][0])\n",
    "    return tup\n",
    "def res_e(i, lim):\n",
    "    if i == lim: return (cf[i], 1)\n",
    "    return (cf[i] ,1,res_e(i + 1, lim))"
   ]
  },
  {
   "cell_type": "markdown",
   "id": "1a265de8-c845-4ab6-98cd-90743d663499",
   "metadata": {},
   "source": [
    "## x2 – Dy2 = 1\n",
    "## sqrt((x2 - 1)/D) = y\n",
    "## if y is integer then x is valid\n",
    "#### Find the value of D ≤ 1000 in minimal solutions of x for which the largest value of x is obtained."
   ]
  },
  {
   "cell_type": "code",
   "execution_count": 21,
   "id": "e967a6a4-8cef-4236-9986-2ffe94da7c0d",
   "metadata": {
    "collapsed": true,
    "jupyter": {
     "outputs_hidden": true
    },
    "tags": []
   },
   "outputs": [
    {
     "name": "stdout",
     "output_type": "stream",
     "text": [
      "2\n",
      "3\n",
      "5\n",
      "6\n",
      "7\n",
      "8\n",
      "10\n",
      "11\n",
      "12\n",
      "13\n",
      "14\n",
      "15\n",
      "17\n",
      "18\n",
      "19\n",
      "20\n",
      "21\n",
      "22\n",
      "23\n",
      "24\n",
      "26\n",
      "27\n",
      "28\n",
      "29\n",
      "30\n",
      "31\n",
      "32\n",
      "33\n",
      "34\n",
      "35\n",
      "37\n",
      "38\n",
      "39\n",
      "40\n",
      "41\n",
      "42\n",
      "43\n",
      "44\n",
      "45\n",
      "46\n",
      "47\n",
      "48\n",
      "50\n",
      "51\n",
      "52\n",
      "53\n",
      "54\n",
      "55\n",
      "56\n",
      "57\n",
      "58\n",
      "59\n",
      "60\n",
      "61\n"
     ]
    },
    {
     "ename": "KeyboardInterrupt",
     "evalue": "",
     "output_type": "error",
     "traceback": [
      "\u001b[0;31m---------------------------------------------------------------------------\u001b[0m",
      "\u001b[0;31mKeyboardInterrupt\u001b[0m                         Traceback (most recent call last)",
      "\u001b[0;32m/var/folders/t9/nsvtvvg17cz5xc8l7pvy48640000gn/T/ipykernel_9817/2222533369.py\u001b[0m in \u001b[0;36m<module>\u001b[0;34m\u001b[0m\n\u001b[1;32m      9\u001b[0m     \u001b[0mx\u001b[0m \u001b[0;34m=\u001b[0m \u001b[0;36m2\u001b[0m\u001b[0;34m\u001b[0m\u001b[0;34m\u001b[0m\u001b[0m\n\u001b[1;32m     10\u001b[0m     \u001b[0;32mwhile\u001b[0m \u001b[0;32mTrue\u001b[0m\u001b[0;34m:\u001b[0m\u001b[0;34m\u001b[0m\u001b[0;34m\u001b[0m\u001b[0m\n\u001b[0;32m---> 11\u001b[0;31m         \u001b[0msup\u001b[0m \u001b[0;34m=\u001b[0m \u001b[0mmath\u001b[0m\u001b[0;34m.\u001b[0m\u001b[0msqrt\u001b[0m\u001b[0;34m(\u001b[0m\u001b[0;34m(\u001b[0m\u001b[0mx\u001b[0m\u001b[0;34m*\u001b[0m\u001b[0mx\u001b[0m \u001b[0;34m-\u001b[0m \u001b[0;36m1\u001b[0m\u001b[0;34m)\u001b[0m \u001b[0;34m/\u001b[0m \u001b[0md\u001b[0m\u001b[0;34m)\u001b[0m\u001b[0;34m\u001b[0m\u001b[0;34m\u001b[0m\u001b[0m\n\u001b[0m\u001b[1;32m     12\u001b[0m         \u001b[0;32mif\u001b[0m \u001b[0msup\u001b[0m \u001b[0;34m==\u001b[0m \u001b[0mint\u001b[0m\u001b[0;34m(\u001b[0m\u001b[0msup\u001b[0m\u001b[0;34m)\u001b[0m\u001b[0;34m:\u001b[0m\u001b[0;34m\u001b[0m\u001b[0;34m\u001b[0m\u001b[0m\n\u001b[1;32m     13\u001b[0m             \u001b[0mlargest_iter_of_x\u001b[0m \u001b[0;34m=\u001b[0m \u001b[0mmax\u001b[0m\u001b[0;34m(\u001b[0m\u001b[0mlargest_iter_of_x\u001b[0m\u001b[0;34m,\u001b[0m \u001b[0mx\u001b[0m\u001b[0;34m)\u001b[0m\u001b[0;34m\u001b[0m\u001b[0;34m\u001b[0m\u001b[0m\n",
      "\u001b[0;31mKeyboardInterrupt\u001b[0m: "
     ]
    }
   ],
   "source": [
    "# TODO: We can try doing it the other way around! if y is minimised then so is X, \n",
    "#        especially from the way the graph is designed\n",
    "\n",
    "    \n",
    "largest_iter_of_x = -1\n",
    "for d in range(1, 1001):\n",
    "    sup2 = math.sqrt(d)\n",
    "    if sup2 == int(sup2):\n",
    "        continue\n",
    "    print(d)\n",
    "    y = 1\n",
    "    while True:\n",
    "        x = math.sqrt(1+d*y*y)\n",
    "        if sup == int(sup):\n",
    "            largest_iter_of_x = max(largest_iter_of_x, x)\n",
    "            break\n",
    "        x += 1\n",
    "largest_iter_of_x"
   ]
  }
 ],
 "metadata": {
  "kernelspec": {
   "display_name": "Python 3 (ipykernel)",
   "language": "python",
   "name": "python3"
  },
  "language_info": {
   "codemirror_mode": {
    "name": "ipython",
    "version": 3
   },
   "file_extension": ".py",
   "mimetype": "text/x-python",
   "name": "python",
   "nbconvert_exporter": "python",
   "pygments_lexer": "ipython3",
   "version": "3.9.13"
  }
 },
 "nbformat": 4,
 "nbformat_minor": 5
}
