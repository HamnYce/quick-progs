{
 "cells": [
  {
   "cell_type": "code",
   "execution_count": 2,
   "id": "e3ab54cb-6dc0-4bfb-9d40-e8938a0b52a6",
   "metadata": {},
   "outputs": [],
   "source": [
    "import numpy as np, pandas as pd"
   ]
  },
  {
   "cell_type": "code",
   "execution_count": 6,
   "id": "f8b7e438-2cc8-4909-935b-882d4aa42a44",
   "metadata": {},
   "outputs": [],
   "source": [
    "df = pd.read_csv('pokemon_data.csv', index_col='#')"
   ]
  },
  {
   "cell_type": "code",
   "execution_count": 44,
   "id": "fa288ddf-287e-43f0-9862-af97b3872e0f",
   "metadata": {},
   "outputs": [],
   "source": [
    "df['total'] = df.loc[:, 'HP':'Speed'].sum(axis=1)"
   ]
  },
  {
   "cell_type": "code",
   "execution_count": 51,
   "id": "7a1b9843-bb2f-44df-9ec2-295f5abe18e7",
   "metadata": {},
   "outputs": [],
   "source": [
    "df.loc[df['Type 1'] == 'Fire', 'Fire'] = True"
   ]
  }
 ],
 "metadata": {
  "kernelspec": {
   "display_name": "Python 3 (ipykernel)",
   "language": "python",
   "name": "python3"
  },
  "language_info": {
   "codemirror_mode": {
    "name": "ipython",
    "version": 3
   },
   "file_extension": ".py",
   "mimetype": "text/x-python",
   "name": "python",
   "nbconvert_exporter": "python",
   "pygments_lexer": "ipython3",
   "version": "3.9.13"
  }
 },
 "nbformat": 4,
 "nbformat_minor": 5
}
