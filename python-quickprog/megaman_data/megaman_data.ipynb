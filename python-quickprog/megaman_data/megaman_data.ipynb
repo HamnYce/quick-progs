{
 "cells": [
  {
   "cell_type": "code",
   "execution_count": 1,
   "id": "d207f0d2-f42a-45e7-9ecb-1ca94881a190",
   "metadata": {},
   "outputs": [],
   "source": [
    "import numpy as np, pandas as pd, matplotlib.pyplot as plt, re"
   ]
  },
  {
   "cell_type": "code",
   "execution_count": 2,
   "id": "f029d327-c5ee-4cd8-a204-35e0ecfb141a",
   "metadata": {},
   "outputs": [],
   "source": [
    "df = pd.read_csv('mmbn1_chips.csv', index_col=0)"
   ]
  },
  {
   "cell_type": "code",
   "execution_count": 134,
   "id": "c6cdb19b-e6ac-4b64-8e52-b15a44c33490",
   "metadata": {},
   "outputs": [
    {
     "data": {
      "text/html": [
       "<div>\n",
       "<style scoped>\n",
       "    .dataframe tbody tr th:only-of-type {\n",
       "        vertical-align: middle;\n",
       "    }\n",
       "\n",
       "    .dataframe tbody tr th {\n",
       "        vertical-align: top;\n",
       "    }\n",
       "\n",
       "    .dataframe thead th {\n",
       "        text-align: right;\n",
       "    }\n",
       "</style>\n",
       "<table border=\"1\" class=\"dataframe\">\n",
       "  <thead>\n",
       "    <tr style=\"text-align: right;\">\n",
       "      <th></th>\n",
       "      <th>Name</th>\n",
       "      <th>Damage</th>\n",
       "      <th>Codes</th>\n",
       "      <th>Description</th>\n",
       "      <th>Rarity</th>\n",
       "      <th>Locations</th>\n",
       "      <th>Count</th>\n",
       "    </tr>\n",
       "    <tr>\n",
       "      <th>ID</th>\n",
       "      <th></th>\n",
       "      <th></th>\n",
       "      <th></th>\n",
       "      <th></th>\n",
       "      <th></th>\n",
       "      <th></th>\n",
       "      <th></th>\n",
       "    </tr>\n",
       "  </thead>\n",
       "  <tbody>\n",
       "    <tr>\n",
       "      <th>001</th>\n",
       "      <td>Cannon(キャノン)</td>\n",
       "      <td>40</td>\n",
       "      <td>A, B, C, D, E</td>\n",
       "      <td>A nice, big cannon!</td>\n",
       "      <td>*</td>\n",
       "      <td>A Chip: Found in starting folder. Defeat the C...</td>\n",
       "      <td>1</td>\n",
       "    </tr>\n",
       "    <tr>\n",
       "      <th>002</th>\n",
       "      <td>HiCannon(ハイキャノン)</td>\n",
       "      <td>80</td>\n",
       "      <td>F, G, H, I, J</td>\n",
       "      <td>A nice, big cannon!</td>\n",
       "      <td>**</td>\n",
       "      <td>F Chip: Defeat the Canodumb2 virus with a 5-7 ...</td>\n",
       "      <td>1</td>\n",
       "    </tr>\n",
       "    <tr>\n",
       "      <th>003</th>\n",
       "      <td>M-Cannon(メガキャノン)</td>\n",
       "      <td>120</td>\n",
       "      <td>K, L, M, N, O</td>\n",
       "      <td>A nice, big cannon!</td>\n",
       "      <td>***</td>\n",
       "      <td>K Chip: Defeat the Canodumb3 virus with a 5-7 ...</td>\n",
       "      <td>1</td>\n",
       "    </tr>\n",
       "  </tbody>\n",
       "</table>\n",
       "</div>"
      ],
      "text/plain": [
       "                 Name  Damage          Codes          Description Rarity  \\\n",
       "ID                                                                         \n",
       "001      Cannon(キャノン)      40  A, B, C, D, E  A nice, big cannon!      *   \n",
       "002  HiCannon(ハイキャノン)      80  F, G, H, I, J  A nice, big cannon!     **   \n",
       "003  M-Cannon(メガキャノン)     120  K, L, M, N, O  A nice, big cannon!    ***   \n",
       "\n",
       "                                             Locations  Count  \n",
       "ID                                                             \n",
       "001  A Chip: Found in starting folder. Defeat the C...      1  \n",
       "002  F Chip: Defeat the Canodumb2 virus with a 5-7 ...      1  \n",
       "003  K Chip: Defeat the Canodumb3 virus with a 5-7 ...      1  "
      ]
     },
     "execution_count": 134,
     "metadata": {},
     "output_type": "execute_result"
    }
   ],
   "source": [
    "df.head(3)"
   ]
  },
  {
   "cell_type": "markdown",
   "id": "92cef9ae-40b5-46a8-b19b-4793dabaa3ab",
   "metadata": {
    "tags": []
   },
   "source": [
    "##  converting damage column to np.int32 (useful for finding max, avg etc)"
   ]
  },
  {
   "cell_type": "code",
   "execution_count": 78,
   "id": "bd9389c4-8127-4326-9377-ce0164834916",
   "metadata": {},
   "outputs": [],
   "source": [
    "vals = list(df['Damage'])\n",
    "for i in range(len(vals)):\n",
    "    if vals[i].count(' '):\n",
    "        vals[i] = vals[i][:vals[i].index(' ')]\n",
    "    if vals[i] == '-':\n",
    "        vals[i] = '0'\n",
    "df['Damage'] = vals\n",
    "df['Damage'] = df['Damage'].astype(np.int32)"
   ]
  },
  {
   "cell_type": "code",
   "execution_count": null,
   "id": "6c4c2dd8-7171-4212-b580-5c0b2ba73720",
   "metadata": {},
   "outputs": [],
   "source": [
    "def chips_with_code(x):\n",
    "    return df[df['Codes'].str.contains(x.upper())]"
   ]
  },
  {
   "cell_type": "code",
   "execution_count": 133,
   "id": "dfbd7c3f-652c-47ef-972b-1b14dfb9d493",
   "metadata": {},
   "outputs": [
    {
     "data": {
      "text/html": [
       "<div>\n",
       "<style scoped>\n",
       "    .dataframe tbody tr th:only-of-type {\n",
       "        vertical-align: middle;\n",
       "    }\n",
       "\n",
       "    .dataframe tbody tr th {\n",
       "        vertical-align: top;\n",
       "    }\n",
       "\n",
       "    .dataframe thead th {\n",
       "        text-align: right;\n",
       "    }\n",
       "</style>\n",
       "<table border=\"1\" class=\"dataframe\">\n",
       "  <thead>\n",
       "    <tr style=\"text-align: right;\">\n",
       "      <th></th>\n",
       "      <th>Damage</th>\n",
       "      <th>Count</th>\n",
       "    </tr>\n",
       "    <tr>\n",
       "      <th>Rarity</th>\n",
       "      <th></th>\n",
       "      <th></th>\n",
       "    </tr>\n",
       "  </thead>\n",
       "  <tbody>\n",
       "    <tr>\n",
       "      <th>*</th>\n",
       "      <td>130</td>\n",
       "      <td>1</td>\n",
       "    </tr>\n",
       "    <tr>\n",
       "      <th>**</th>\n",
       "      <td>160</td>\n",
       "      <td>1</td>\n",
       "    </tr>\n",
       "    <tr>\n",
       "      <th>***</th>\n",
       "      <td>180</td>\n",
       "      <td>1</td>\n",
       "    </tr>\n",
       "    <tr>\n",
       "      <th>****</th>\n",
       "      <td>200</td>\n",
       "      <td>1</td>\n",
       "    </tr>\n",
       "    <tr>\n",
       "      <th>*****</th>\n",
       "      <td>210</td>\n",
       "      <td>1</td>\n",
       "    </tr>\n",
       "  </tbody>\n",
       "</table>\n",
       "</div>"
      ],
      "text/plain": [
       "        Damage  Count\n",
       "Rarity               \n",
       "*          130      1\n",
       "**         160      1\n",
       "***        180      1\n",
       "****       200      1\n",
       "*****      210      1"
      ]
     },
     "execution_count": 133,
     "metadata": {},
     "output_type": "execute_result"
    }
   ],
   "source": [
    "df.groupby('Rarity').max('Damage')"
   ]
  },
  {
   "cell_type": "code",
   "execution_count": null,
   "id": "937e07c6-ad56-44a5-8e1b-6bc96137a5e8",
   "metadata": {},
   "outputs": [],
   "source": [
    "df.groupby('Rarity').max"
   ]
  }
 ],
 "metadata": {
  "kernelspec": {
   "display_name": "Python 3 (ipykernel)",
   "language": "python",
   "name": "python3"
  },
  "language_info": {
   "codemirror_mode": {
    "name": "ipython",
    "version": 3
   },
   "file_extension": ".py",
   "mimetype": "text/x-python",
   "name": "python",
   "nbconvert_exporter": "python",
   "pygments_lexer": "ipython3",
   "version": "3.9.13"
  }
 },
 "nbformat": 4,
 "nbformat_minor": 5
}
